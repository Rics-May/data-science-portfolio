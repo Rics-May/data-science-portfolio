{
 "cells": [
  {
   "cell_type": "code",
   "execution_count": 1,
   "id": "52616ec5-72e2-42b4-aafa-dee69d063aa4",
   "metadata": {},
   "outputs": [],
   "source": [
    "import pandas as pd"
   ]
  },
  {
   "cell_type": "code",
   "execution_count": 2,
   "id": "9356c1bb-3a81-4e44-a163-698ccbda7658",
   "metadata": {},
   "outputs": [
    {
     "name": "stdout",
     "output_type": "stream",
     "text": [
      "     name Departament  Salary\n",
      "0   Peter       Cyber   45000\n",
      "1  Sergey     Teacher   35000\n",
      "2    Alex          IT   53000\n",
      "3    John     Teacher   35000\n"
     ]
    }
   ],
   "source": [
    "data = {'name': ['Peter', 'Sergey', 'Alex', 'John'],\n",
    "        'Departament': ['Cyber', 'Teacher', 'IT', 'Teacher'],\n",
    "        'Salary': [45000, 35000, 53000, 35000]}\n",
    "\n",
    "df = pd.DataFrame(data)  # Создаём DataFrame\n",
    "print(df)"
   ]
  },
  {
   "cell_type": "code",
   "execution_count": 8,
   "id": "f3fbded3-cdb5-42cd-8f0f-4378e187206a",
   "metadata": {},
   "outputs": [
    {
     "data": {
      "text/plain": [
       "name            Sergey\n",
       "Departament    Teacher\n",
       "Salary           35000\n",
       "Name: 1, dtype: object"
      ]
     },
     "execution_count": 8,
     "metadata": {},
     "output_type": "execute_result"
    }
   ],
   "source": [
    "df.loc[1]"
   ]
  },
  {
   "cell_type": "code",
   "execution_count": 9,
   "id": "959de171-79f2-4c45-891c-36ea59788f46",
   "metadata": {},
   "outputs": [
    {
     "data": {
      "text/plain": [
       "'John'"
      ]
     },
     "execution_count": 9,
     "metadata": {},
     "output_type": "execute_result"
    }
   ],
   "source": [
    "df.iloc[-1,0]"
   ]
  },
  {
   "cell_type": "code",
   "execution_count": 15,
   "id": "8fbf1ebd-c4a7-4d02-bca6-438e1207c229",
   "metadata": {},
   "outputs": [
    {
     "name": "stdout",
     "output_type": "stream",
     "text": [
      "средняя зарплата в компании: 42000.00\n"
     ]
    }
   ],
   "source": [
    "print(f'средняя зарплата в компании: {df[\"Salary\"].mean():.2f}')"
   ]
  },
  {
   "cell_type": "code",
   "execution_count": null,
   "id": "245adffb-3189-44b4-917f-1a9f4faa2082",
   "metadata": {},
   "outputs": [],
   "source": []
  }
 ],
 "metadata": {
  "kernelspec": {
   "display_name": "Python 3 (ipykernel)",
   "language": "python",
   "name": "python3"
  },
  "language_info": {
   "codemirror_mode": {
    "name": "ipython",
    "version": 3
   },
   "file_extension": ".py",
   "mimetype": "text/x-python",
   "name": "python",
   "nbconvert_exporter": "python",
   "pygments_lexer": "ipython3",
   "version": "3.11.13"
  }
 },
 "nbformat": 4,
 "nbformat_minor": 5
}
