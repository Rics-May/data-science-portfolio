{
 "cells": [
  {
   "cell_type": "code",
   "execution_count": 1,
   "id": "d48f184e-ac81-47f2-b3a2-4eeae590e15a",
   "metadata": {},
   "outputs": [],
   "source": [
    "import numpy as np"
   ]
  },
  {
   "cell_type": "code",
   "execution_count": 2,
   "id": "4917d9a8-8f2e-4c33-abea-56a2cab38907",
   "metadata": {},
   "outputs": [
    {
     "data": {
      "text/plain": [
       "array([14, 72, 70, 17, 73, 45, 32, 45, 54, 65], dtype=int32)"
      ]
     },
     "execution_count": 2,
     "metadata": {},
     "output_type": "execute_result"
    }
   ],
   "source": [
    "d1=np.random.randint(0,101,10)\n",
    "d1"
   ]
  },
  {
   "cell_type": "code",
   "execution_count": 3,
   "id": "49797e59-4855-4c32-ae48-330a6db291e9",
   "metadata": {},
   "outputs": [
    {
     "data": {
      "text/plain": [
       "array([[ 5, 12,  1, 21],\n",
       "       [63, 15, 65, 53],\n",
       "       [75, 40, 35, 72]], dtype=int32)"
      ]
     },
     "execution_count": 3,
     "metadata": {},
     "output_type": "execute_result"
    }
   ],
   "source": [
    "d2=np.random.randint(0,101,12)\n",
    "d2=d2.reshape(3,4)\n",
    "d2"
   ]
  },
  {
   "cell_type": "code",
   "execution_count": 4,
   "id": "3e3e78c3-b68b-4abf-9624-b2202d4b3d36",
   "metadata": {},
   "outputs": [
    {
     "data": {
      "text/plain": [
       "array([63, 15, 65, 53], dtype=int32)"
      ]
     },
     "execution_count": 4,
     "metadata": {},
     "output_type": "execute_result"
    }
   ],
   "source": [
    "d2[1]"
   ]
  },
  {
   "cell_type": "code",
   "execution_count": 5,
   "id": "578d0dc5-34db-4edc-a4f2-659f2e0ce868",
   "metadata": {},
   "outputs": [
    {
     "data": {
      "text/plain": [
       "array([ 1, 65, 35], dtype=int32)"
      ]
     },
     "execution_count": 5,
     "metadata": {},
     "output_type": "execute_result"
    }
   ],
   "source": [
    "d2[:,2]"
   ]
  },
  {
   "cell_type": "code",
   "execution_count": 6,
   "id": "d4eb42cd-d0db-46e6-9d80-40ec86293c5f",
   "metadata": {},
   "outputs": [
    {
     "data": {
      "text/plain": [
       "np.int32(12)"
      ]
     },
     "execution_count": 6,
     "metadata": {},
     "output_type": "execute_result"
    }
   ],
   "source": [
    "d2[0,1]"
   ]
  },
  {
   "cell_type": "code",
   "execution_count": 7,
   "id": "824baf17-265f-48cb-bb9f-fd2f7432a230",
   "metadata": {},
   "outputs": [
    {
     "data": {
      "text/plain": [
       "array([[ 10,  24,   2,  42],\n",
       "       [126,  30, 130, 106],\n",
       "       [150,  80,  70, 144]], dtype=int32)"
      ]
     },
     "execution_count": 7,
     "metadata": {},
     "output_type": "execute_result"
    }
   ],
   "source": [
    "d2*2"
   ]
  },
  {
   "cell_type": "code",
   "execution_count": 8,
   "id": "77faae68-8897-4c6c-a667-3fb99f6d6fa2",
   "metadata": {},
   "outputs": [
    {
     "data": {
      "text/plain": [
       "array([47.66666667, 22.33333333, 33.66666667, 48.66666667])"
      ]
     },
     "execution_count": 8,
     "metadata": {},
     "output_type": "execute_result"
    }
   ],
   "source": [
    "d2.mean(axis=0)"
   ]
  },
  {
   "cell_type": "code",
   "execution_count": null,
   "id": "ea618ff8-f693-4afc-a22a-f624808205a9",
   "metadata": {},
   "outputs": [],
   "source": []
  }
 ],
 "metadata": {
  "kernelspec": {
   "display_name": "Python 3 (ipykernel)",
   "language": "python",
   "name": "python3"
  },
  "language_info": {
   "codemirror_mode": {
    "name": "ipython",
    "version": 3
   },
   "file_extension": ".py",
   "mimetype": "text/x-python",
   "name": "python",
   "nbconvert_exporter": "python",
   "pygments_lexer": "ipython3",
   "version": "3.11.13"
  }
 },
 "nbformat": 4,
 "nbformat_minor": 5
}
